{
 "cells": [
  {
   "cell_type": "markdown",
   "id": "b482542e",
   "metadata": {},
   "source": [
    "# Daymet V4 - Programmatic Data Discovery, Access, Subsetting, and Download for Analysis Ready Data"
   ]
  },
  {
   "cell_type": "markdown",
   "id": "50489f29",
   "metadata": {},
   "source": [
    "*Author:  ORNL DAAC*\n",
    "<br>\n",
    "*Date: August 31, 2021*\n",
    "<br>\n",
    "*Contact for [ORNL DAAC](https://daac.ornl.gov/):  uso@daac.ornl.gov*\n",
    "\n",
    "##### Keywords:  ORNL DAAC, Daymet, THREDDS, OPeNDAP, Earthdata, `pydap`, `xarray`, `CMR API`"
   ]
  },
  {
   "cell_type": "markdown",
   "id": "cbc9a790",
   "metadata": {},
   "source": [
    "# Tutorial Overview\n",
    "\n",
    "**In this tutorial, we're interested in obtaining gridded weather data that covers the spatial region of the Great Smoky Mountains National Park.  We'll learn to programmatically subset data from the North American Daymet V4 daily precipitation files. We want data that covers the spatial region of the Great Smoky Mountains National Park for 2 years; 2010 and 2011.**\n",
    "\n",
    "**We'll learn to search NASA's Dataset Collections to discover Daymet data that matches our user-defined search parameters.  Using Python libraries and modules, we'll programmatically access and subset the data before downloading data.**  \n",
    "\n",
    "![title](images/NPS_great-smoky-mountains-national-park-map.jpg)  <h5><center>Great Smoky Mountains National Park</center></h1>"
   ]
  },
  {
   "cell_type": "markdown",
   "id": "bffead84",
   "metadata": {},
   "source": [
    "### Daymet Overview\n",
    "**Daymet** provides long-term, continuous, gridded estimates of daily weather and climatology variables by interpolating and extrapolating ground-based observations through statistical modeling techniques. \n",
    "\n",
    "![title](images/Daymet_V4_Annual_Climatology_Fig1.png)\n",
    "\n",
    "Daily files are produced on a **1km x 1km** spatial grid and distributed in a multidimensional, netCDF, file format. Daymet data is available for continenal North America (na), with Hawaii (hi), and Puerto Rico (pr) as separate data files.\n",
    "\n",
    "DAYMET Temporal Availability:\n",
    "\n",
    "| Spatial Area    | Years                          \n",
    "|:---------       |:---------------------------------------:|\n",
    "| North America   | 1980 - present\n",
    "| Hawaii          | 1980 - 2020\n",
    "| Puerto Rico     | 1950 - 2020\n",
    "\n",
    "DAYMET VARIABLES:\n",
    "\n",
    "| Variable | Description (units)                           \n",
    "|:---------|:---------------------------------------:|\n",
    "| tmax     | Daily maximum 2-meter air temperature (°C)\n",
    "| tmin     | Daily minimum 2-meter air temperature (°C)\n",
    "| prcp     | Daily total precipitation (mm/day)\n",
    "| srad     | Incident shortwave radiation flux density (W/m2)\n",
    "| vp       | Water vapor pressure (Pa)\n",
    "| swe      | Snow water equivalent (kg/m2)\n",
    "| dayl     | Duration of the daylight period (seconds/day)\n",
    "\n",
    "\n",
    "Daymet V4 Daily Data files (or granules) are natively in netCDF4 format, and each file has one year's worth of data. Data files are organized by variables (dayl, prcp, tmin, tmax, srad, swe, vp) and regions (each for na, pr, hi).\n",
    "\n",
    "The standard naming convention for a file is:  \n",
    "\n",
    "- daymet_v4_daily_`area`_`variable`_`year`.nc\n",
    "\n",
    "\n",
    "#### Daymet Data: ORNL DAAC \n",
    "- The [Daymet Website](https://daymet.ornl.gov) provides comprehensive information about and access methods for the Daymet datasets under the [Get Data](https://daymet.ornl.gov/getdata) tab. \n",
    "\n",
    "- Landing Page for [Daymet: Daily Surface Weather Data on a 1-km Grid for North America, Version 4](https://daac.ornl.gov/cgi-bin/dsviewer.pl?ds_id=1840).  \n",
    "- Notice the Dataset DOI **https://doi.org/10.3334/ORNLDAAC/1840**\n",
    "<div class=\"alert alert-block alert-info\">\n",
    "Thornton, M.M., R. Shrestha, Y. Wei, P.E. Thornton, S. Kao, and B.E. Wilson. 2020. Daymet: Daily Surface Weather Data on a 1-km Grid for North America, Version 4. ORNL DAAC, Oak Ridge, Tennessee, USA. https://doi.org/10.3334/ORNLDAAC/1840\n",
    "</div>\n",
    "\n",
    "\n",
    "- ORNL DAAC access to Daymet daily data through THREDDS [Daymet V4 Daily Data: THREDDS](https://thredds.daac.ornl.gov/thredds/catalog/ornldaac/1840/catalog.html)\n",
    "\n",
    "#### Daymet Data: NASA Earthdata\n",
    " - [NASA Earthdata Daymet Collections](https://search.earthdata.nasa.gov/portal/ornldaac/search?fpj=Daymet!Daymet!Daymet)"
   ]
  },
  {
   "cell_type": "markdown",
   "id": "460917a8",
   "metadata": {},
   "source": [
    "***\n",
    "***"
   ]
  },
  {
   "cell_type": "markdown",
   "id": "48b262b8",
   "metadata": {},
   "source": [
    "# Tutorial\n",
    "\n",
    "Steps we'll explore in this tutorial are: \n",
    "1.  Using a georeferenced polygon file, we'll establish **boundary parameters** to use as input for subsetting Daymet Data\n",
    "1. We'll leverage the **Daymet DOI** and NASA's Common Metadata Repository (CMR) API to search for Daymet data within our spatial and temporal region of interest\n",
    "1. Programmatically download subsets of data via OPeNDAP \n",
    "1. Clip the Daymet subset to our polygon region of interest"
   ]
  },
  {
   "cell_type": "markdown",
   "id": "28640b33",
   "metadata": {},
   "source": [
    "## Tutorial Python and Module/Library Versions\n",
    "* Python 3.7 or higher\n",
    "* geopandas and dependencies\n",
    "* pydap\n",
    "* xarray\n",
    "* rasterio\n",
    "* shapely"
   ]
  },
  {
   "cell_type": "code",
   "execution_count": 1,
   "id": "24350611",
   "metadata": {},
   "outputs": [],
   "source": [
    "import geopandas as gpd\n",
    "import matplotlib.pyplot as plt\n",
    "import requests\n",
    "import pyproj\n",
    "import datetime as dt \n",
    "from rasterio.features import Affine\n",
    "from pydap.client import open_url\n",
    "from pydap.cas.urs import setup_session\n",
    "import xarray as xr\n",
    "import rioxarray\n",
    "import shapely\n",
    "import rasterio\n",
    "import time\n",
    "from shapely.geometry import mapping"
   ]
  },
  {
   "cell_type": "code",
   "execution_count": 2,
   "id": "e6d496fc",
   "metadata": {},
   "outputs": [
    {
     "name": "stdout",
     "output_type": "stream",
     "text": [
      "This Notebook was produced with the following versions\n",
      "geopanda version   :  0.9.0\n",
      "pyproj version     :  3.1.0\n",
      "rioxarray version  :  0.5.0\n",
      "xarray version     :  0.18.2\n",
      "shapely            :  1.7.1\n",
      "rasterio           :  1.2.6\n"
     ]
    }
   ],
   "source": [
    "print(\"This Notebook was produced with the following versions\")\n",
    "print(\"geopanda version   : \", gpd.__version__)\n",
    "print(\"pyproj version     : \", pyproj.__version__)\n",
    "print(\"rioxarray version  : \", rioxarray.__version__)\n",
    "print(\"xarray version     : \", xr.__version__)\n",
    "print(\"shapely            : \", shapely.__version__)\n",
    "print(\"rasterio           : \", rasterio.__version__)"
   ]
  },
  {
   "cell_type": "markdown",
   "id": "95a1706a",
   "metadata": {},
   "source": [
    "## Step 1.  Setting Search and Subset Parameters: Spatial Area of Interest and Time Range of Interest"
   ]
  },
  {
   "cell_type": "markdown",
   "id": "1c1dbba4",
   "metadata": {},
   "source": [
    "We will use a boundary file of the [Great Smoky Mountain National Park (GRSM)](https://www.nps.gov/grsm/planyourvisit/maps.htm) to obtain boundary parameters to use in demonstrating a programmatic spatial subsetting process. "
   ]
  },
  {
   "cell_type": "markdown",
   "id": "d0fe0b9e",
   "metadata": {},
   "source": [
    "We'll use Python's [GeoPandas](https://geopandas.org/index.html) to provide a spatial extent from a the polygon file.\n",
    "\n",
    "* **`Geopandas`** is a Python library that enables the use and manipulation of geospatial data. It extends the common datatype used in pandas to allow for many and unique geometric operations."
   ]
  },
  {
   "cell_type": "code",
   "execution_count": 3,
   "id": "1cd02e0c",
   "metadata": {},
   "outputs": [
    {
     "data": {
      "text/plain": [
       "<Projected CRS: EPSG:26917>\n",
       "Name: NAD83 / UTM zone 17N\n",
       "Axis Info [cartesian]:\n",
       "- E[east]: Easting (metre)\n",
       "- N[north]: Northing (metre)\n",
       "Area of Use:\n",
       "- name: North America - between 84°W and 78°W - onshore and offshore. Canada - Nunavut; Ontario; Quebec. United States (USA) - Florida; Georgia; Kentucky; Maryland; Michigan; New York; North Carolina; Ohio; Pennsylvania; South Carolina; Tennessee; Virginia; West Virginia.\n",
       "- bounds: (-84.0, 23.81, -78.0, 84.0)\n",
       "Coordinate Operation:\n",
       "- name: UTM zone 17N\n",
       "- method: Transverse Mercator\n",
       "Datum: North American Datum 1983\n",
       "- Ellipsoid: GRS 1980\n",
       "- Prime Meridian: Greenwich"
      ]
     },
     "execution_count": 3,
     "metadata": {},
     "output_type": "execute_result"
    },
    {
     "data": {
      "image/png": "[encoded data removed]",
      "text/plain": [
       "<Figure size 432x288 with 1 Axes>"
      ]
     },
     "metadata": {
      "needs_background": "light"
     },
     "output_type": "display_data"
    }
   ],
   "source": [
    "grsm_poly = gpd.read_file('bnds/GRSM_BOUNDARY_POLYGON_fid17.shp')\n",
    "ax = grsm_poly.plot() # boundary file of the Great Smokey Mountains National Park\n",
    "\n",
    "grsm_poly.crs  # Lists the coordinate reference system (crs)"
   ]
  },
  {
   "cell_type": "markdown",
   "id": "16907818",
   "metadata": {},
   "source": [
    "As we see above, the boundary file is in the `UTM 17N` projection. Daymet is project to the `lambert_conformal_conic (LCC)` system. "
   ]
  },
  {
   "cell_type": "markdown",
   "id": "a957075d",
   "metadata": {},
   "source": [
    "#### Data can be re-projected using the **`GeoDataFrame.to_crs`** command:\n",
    "We'll need bounding box coordinates in 2 reference systems\n",
    "1. **Geographic** - for searching NASA Earthdata metadata\n",
    "2. **Lambert Conformal Conic** - Daymet's crs - for subsetting the file using OPeNDAP protocols"
   ]
  },
  {
   "cell_type": "markdown",
   "id": "5900de85",
   "metadata": {},
   "source": [
    "### 1.1 **Geographic** bounding box - for searching NASA Earthdata metadata"
   ]
  },
  {
   "cell_type": "code",
   "execution_count": 4,
   "id": "52ae71b6",
   "metadata": {},
   "outputs": [
    {
     "name": "stdout",
     "output_type": "stream",
     "text": [
      "        minx       miny       maxx       maxy\n",
      "0 -84.000404  35.428962 -82.998041  35.789109\n"
     ]
    }
   ],
   "source": [
    "# Let's determine and store the geographic bounding box of the Park boundary for Earthdata Searching\n",
    "# data can be re-projected using the GeoDataFrame.to_crs() command:\n",
    "grsm_poly_4326 = grsm_poly.to_crs(epsg=4326)\n",
    "xy = grsm_poly_4326.bounds # bound of polygon in lat, lon \n",
    "print(xy)"
   ]
  },
  {
   "cell_type": "code",
   "execution_count": 5,
   "id": "7a0a4a4d",
   "metadata": {},
   "outputs": [
    {
     "name": "stdout",
     "output_type": "stream",
     "text": [
      "[-84.00040431754826, 35.42896172322691, -82.99804055694513, 35.7891093036265]\n"
     ]
    }
   ],
   "source": [
    "xy = grsm_poly_4326.bounds.values.tolist()[0] # We'll need the bounding box as a Python list \n",
    "                                              # to server as a subsetting parameter\n",
    "print(xy)"
   ]
  },
  {
   "cell_type": "markdown",
   "id": "63dd028a",
   "metadata": {},
   "source": [
    "### 1.2. **Lambert Conformal Conic** bounding box - Daymet's crs - for subsetting the file using OPeNDAP protocols"
   ]
  },
  {
   "cell_type": "code",
   "execution_count": 6,
   "id": "4c6898c0",
   "metadata": {},
   "outputs": [
    {
     "name": "stdout",
     "output_type": "stream",
     "text": [
      "           minx           miny          maxx           maxy\n",
      "0  1.386957e+06 -612937.065386  1.470587e+06 -565105.068335\n"
     ]
    }
   ],
   "source": [
    "#defining Daymet proj - we'll use this in a later step\n",
    "daymet_proj = \"+proj=lcc +ellps=WGS84 +a=6378137 +b=6356752.314245 +lat_1=25 +lat_2=60 +lon_0=-100 +lat_0=42.5 +x_0=0 +y_0=0 +units=m +no_defs\"\n",
    "grsm_poly_lcc = grsm_poly.to_crs(daymet_proj) # to_crs re-projects from UTM 17N to LCC\n",
    "lccbounds = grsm_poly_lcc.bounds # Bounds in LCC projection\n",
    "print(lccbounds)"
   ]
  },
  {
   "cell_type": "code",
   "execution_count": 7,
   "id": "311e0720",
   "metadata": {
    "scrolled": true
   },
   "outputs": [
    {
     "data": {
      "image/png": "[encoded data removed]",
      "text/plain": [
       "<Figure size 864x576 with 2 Axes>"
      ]
     },
     "metadata": {
      "needs_background": "light"
     },
     "output_type": "display_data"
    }
   ],
   "source": [
    "fig, (ax1, ax2) = plt.subplots(nrows=1, ncols=2, figsize=(12, 8))\n",
    "#grsm_poly.plot(ax=ax1, facecolor='blue');\n",
    "grsm_poly_4326.plot(ax=ax1, facecolor='blue');\n",
    "ax1.set_title(\"GRSM Geographic Coordinate System\");\n",
    "grsm_poly_lcc.plot(ax=ax2, facecolor='grey');\n",
    "ax2.set_title(\"GRSM Daymet LCC Projection\");\n",
    "plt.tight_layout()"
   ]
  },
  {
   "cell_type": "markdown",
   "id": "c67bed4f",
   "metadata": {},
   "source": [
    "### 1.3. **Time Range** Let's also define a `time range` in a format that the API recognizes, and the Daymet `variable` of interest :"
   ]
  },
  {
   "cell_type": "code",
   "execution_count": 8,
   "id": "15e14b90",
   "metadata": {},
   "outputs": [
    {
     "name": "stdout",
     "output_type": "stream",
     "text": [
      "2010-01-01T00:00:00Z,2011-01-01T00:00:00Z\n",
      "prcp\n"
     ]
    }
   ],
   "source": [
    "start_date = dt.datetime(2010, 1, 1) # specify your own start date\n",
    "end_date = dt.datetime(2011, 1, 1)  # specify your end start date\n",
    "\n",
    "dt_format = '%Y-%m-%dT%H:%M:%SZ' # format requirement for datetime search\n",
    "temporal_str = start_date.strftime(dt_format) + ',' + end_date.strftime(dt_format)\n",
    "\n",
    "var = 'prcp' # select a Daymet variable of interest\n",
    "print(temporal_str)\n",
    "print(var)"
   ]
  },
  {
   "cell_type": "markdown",
   "id": "f3388dc7",
   "metadata": {},
   "source": [
    "----"
   ]
  },
  {
   "cell_type": "markdown",
   "id": "f6f69c02",
   "metadata": {},
   "source": [
    "## Step 2. Leveraging NASA's Common Metadata Repository (CMR) API to search NASA Earthdata for Daymet data within a spatial and temporal region of interest\n",
    "\n",
    "##### Now that we've defined our spatial and temporal area-of-interest, we'll see how we can programatically use those as a search parameters to discover Daymet V4 Daily data.  \n",
    "\n",
    "##### At the end of this step, we will have a list of Daymet files that are within our search criteria (bounding box and time period)."
   ]
  },
  {
   "cell_type": "markdown",
   "id": "588ff659",
   "metadata": {},
   "source": [
    "#### A little background ...\n",
    "\n",
    "- Searching [NASA's Earthdata Holdings](https://search.earthdata.nasa.gov/search) can lead to quite a few files for a user to consider. \n",
    "![title](images/InkedNASAEarthdataCollectionSearch_narrow_LI.jpg)\n",
    "<br>\n",
    "- NASA has a metadata system that catalogs all data and metadata records:  [Common Metadata Repository (CMR)](https://earthdata.nasa.gov/eosdis/science-system-description/eosdis-components/cmr) \n",
    "\n",
    "- Using the [CMR API](https://cmr.earthdata.nasa.gov/search), we can search metadata records to discovered data granules (files).\n",
    "\n",
    "<div class=\"alert alert-block alert-info\">\n",
    "https://cmr.earthdata.nasa.gov/search/collections\n",
    "</div>\n",
    "\n",
    "<div class=\"alert alert-block alert-info\">\n",
    "https://cmr.earthdata.nasa.gov/search/granules\n",
    "</div>\n",
    "\n",
    "- The [Daymet V4 Daily](https://daac.ornl.gov/cgi-bin/dsviewer.pl?ds_id=1840) data DOI, **`doi.org/10.3334/ORNLDAAC/1840`**.\n",
    "\n",
    "<div class=\"alert alert-block alert-info\">\n",
    "Thornton, M.M., R. Shrestha, Y. Wei, P.E. Thornton, S. Kao, and B.E. Wilson. 2020. Daymet: Daily Surface Weather Data on a 1-km Grid for North America, Version 4. ORNL DAAC, Oak Ridge, Tennessee, USA. https://doi.org/10.3334/ORNLDAAC/1840\n",
    "</div>\n",
    "\n",
    "- One more piece we need to know about is the **`Concept ID`**.  This is a NASA Earthdata unique ID for **Dataset Collections**.  We'll see how to programatically obtain the Concept ID below.\n",
    "\n",
    "\n",
    "\n",
    "   "
   ]
  },
  {
   "cell_type": "markdown",
   "id": "a382f912",
   "metadata": {},
   "source": [
    "### 2.1. Searching NASA's Earthdata Collections for Daymet V4 Daily Data \"Concept ID\""
   ]
  },
  {
   "cell_type": "markdown",
   "id": "0839dc75",
   "metadata": {},
   "source": [
    "Using Python's **`requests`** library, we will build and provide an HTTP request to search **`NASA's Earthdata Collections`** for Daymet V4 Daily Dataset Collection to acquire the **concept_id** unique to the Daymet V4 Daily data in NASA's Earthdata holdings.  \n",
    "\n",
    "* **`requests`** is a simple HTTP libray for Python.  It allows you to easily send HTTP requests.\n",
    "\n",
    "<div class=\"alert alert-block alert-info\">\n",
    "https://cmr.earthdata.nasa.gov/search/collections\n",
    "</div>\n",
    "\n",
    "To build the URL Request we'll use:\n",
    "- the cmr URL\n",
    "- Daymet V4 Daily Data DOI\n"
   ]
  },
  {
   "cell_type": "code",
   "execution_count": 9,
   "id": "7f5e5eb7",
   "metadata": {},
   "outputs": [
    {
     "name": "stdout",
     "output_type": "stream",
     "text": [
      "Earthdata Collections URL: Daymet V4 Daily --> https://cmr.earthdata.nasa.gov/search/collections.json?doi=10.3334/ORNLDAAC/1840\n"
     ]
    }
   ],
   "source": [
    "daymet_doi = '10.3334/ORNLDAAC/1840' # define the Daymet V4 Daily Data DOI as the variable `daymet_doi`\n",
    "cmrurl='https://cmr.earthdata.nasa.gov/search/' # define the base url of NASA's CMR API as the variable `cmrurl`\n",
    "doisearch = cmrurl + 'collections.json?doi=' + daymet_doi # Create the Earthdata Collections URL\n",
    "print('Earthdata Collections URL: Daymet V4 Daily -->', doisearch)"
   ]
  },
  {
   "cell_type": "code",
   "execution_count": 10,
   "id": "c42b5e5c",
   "metadata": {},
   "outputs": [
    {
     "name": "stdout",
     "output_type": "stream",
     "text": [
      "NASA Earthdata Concept_ID -->  C2031536952-ORNL_CLOUD\n"
     ]
    }
   ],
   "source": [
    "# From the doisearch, we can obtain the ConceptID for the Daymet V4 Daily data\n",
    "# We'll search the json response of the Daymet metadata for \"id\" within the 'entry' dictionary key\n",
    "response = requests.get(doisearch)\n",
    "collection = response.json()['feed']['entry'][0] \n",
    "#print(collection)\n",
    "concept_id = collection['id']\n",
    "print('NASA Earthdata Concept_ID --> ' , concept_id)"
   ]
  },
  {
   "cell_type": "markdown",
   "id": "2086317c",
   "metadata": {},
   "source": [
    "`C2031536952-ORNL_CLOUD` is the unique NASA-given Concept ID for the Daymet dataset. We'll use this to search for Daymet V4 Daily files (granules) that match our search criteria. "
   ]
  },
  {
   "cell_type": "markdown",
   "id": "b18731a4",
   "metadata": {},
   "source": [
    "### 2.2. Searching NASA's Earthdata Holdings for Daymet Granules (Files)\n",
    "#### Now that we have all our parameters defined, let's search NASA's Earthdata Holdings for all the data that are within those search criteria."
   ]
  },
  {
   "cell_type": "markdown",
   "id": "40150c4d",
   "metadata": {},
   "source": [
    "<div class=\"alert alert-block alert-info\">\n",
    "https://cmr.earthdata.nasa.gov/search/granules\n",
    "</div>\n"
   ]
  },
  {
   "cell_type": "code",
   "execution_count": 11,
   "id": "50d50640",
   "metadata": {},
   "outputs": [
    {
     "name": "stdout",
     "output_type": "stream",
     "text": [
      "Variables we have defined to pass to the CMR API\n",
      "-----------------------------------------------\n",
      "time range      : 2010-01-01T00:00:00Z,2011-01-01T00:00:00Z\n",
      "Daymet variable : prcp\n",
      "bounding box    :\n",
      "[-84.00040431754826, 35.42896172322691, -82.99804055694513, 35.7891093036265]\n",
      "concept ID      : C2031536952-ORNL_CLOUD\n",
      "cmr url         : https://cmr.earthdata.nasa.gov/search/\n"
     ]
    }
   ],
   "source": [
    "print('Variables we have defined to pass to the CMR API')\n",
    "print('-----------------------------------------------')\n",
    "print('time range      :', temporal_str)\n",
    "print('Daymet variable :', var)\n",
    "print('bounding box    :')\n",
    "print(xy)\n",
    "print('concept ID      :', concept_id)\n",
    "print('cmr url         :', cmrurl)"
   ]
  },
  {
   "cell_type": "markdown",
   "id": "61c601f8",
   "metadata": {},
   "source": [
    "### 2.2.a. We'll build the URL **granulesearch** to create a listing of all the granules (files) in NASA's Earthdata holdings that fit the search criteria we defined."
   ]
  },
  {
   "cell_type": "code",
   "execution_count": 12,
   "id": "44f2206f",
   "metadata": {},
   "outputs": [
    {
     "name": "stdout",
     "output_type": "stream",
     "text": [
      "https://cmr.earthdata.nasa.gov/search/granules.json?collection_concept_id=C2031536952-ORNL_CLOUD&page_size=1000&temporal=2010-01-01T00:00:00Z,2011-01-01T00:00:00Z&bounding_box[]=-84.00040431754826,35.42896172322691,-82.99804055694513,35.7891093036265\n"
     ]
    }
   ],
   "source": [
    "granulesearch = cmrurl + 'granules.json?collection_concept_id=' + concept_id + \\\n",
    "                '&page_size=1000' + '&temporal=' + temporal_str + \\\n",
    "                '&bounding_box[]=' + ','.join(map(str, xy))\n",
    "print(granulesearch)                "
   ]
  },
  {
   "cell_type": "markdown",
   "id": "0a02f914",
   "metadata": {},
   "source": [
    "### 2.2.b. Again using Python's **`requests`** library, we can provide the URL `granulesearch` to create a listing of all the granules (files) in **NASA's Earthdata** holdings that fit the search criteria we defined in the search granule URL."
   ]
  },
  {
   "cell_type": "code",
   "execution_count": 13,
   "id": "cb30dcca",
   "metadata": {},
   "outputs": [
    {
     "name": "stdout",
     "output_type": "stream",
     "text": [
      "Daymet_Daily_V4.daymet_v4_daily_na_prcp_2010.nc\n",
      "Daymet_Daily_V4.daymet_v4_daily_na_prcp_2011.nc\n"
     ]
    }
   ],
   "source": [
    "response = requests.get(granulesearch)\n",
    "granules = response.json()['feed']['entry']  # Michele, look at url feed, 'entry' key in the granulesearch URL {}\n",
    "granule_names = []  # create an empty array\n",
    "for g in granules:\n",
    "    granule_name = g['title'] # fill the array with granule names that match our search parameters\n",
    "    if var in granule_name:\n",
    "        granule_names.append(granule_name)\n",
    "        print(granule_name)"
   ]
  },
  {
   "cell_type": "markdown",
   "id": "6599ba19",
   "metadata": {},
   "source": [
    "##### Now the array `granule_names` contains the names of all the files that have data in the Park and for our time period.\n",
    "##### In other words, of the 1,071 files in the Daymet V4 Daily Collection, these 2 files match our search criteria."
   ]
  },
  {
   "cell_type": "markdown",
   "id": "452e2a1d",
   "metadata": {},
   "source": [
    "----"
   ]
  },
  {
   "cell_type": "markdown",
   "id": "9f08124e",
   "metadata": {},
   "source": [
    "## Step 3. Downloading subset data through ORNL DAAC THREDDS Data Server\n",
    "Daymet data is available through ORNL DAAC's THREDDS Data Server. We will use this to subset and download Daymet V4 Daily Data the based on\n",
    "- **`granual_names`** array we saved above \n",
    "- our polygonal region of interest (LCC bounding box)\n",
    "- our time range of interest\n",
    "- Daymet variable."
   ]
  },
  {
   "cell_type": "markdown",
   "id": "00c5edf7",
   "metadata": {},
   "source": [
    "[Daymet V4 Daily Data in the ORNL DAAC THREDDS Data Server](https://thredds.daac.ornl.gov/thredds/catalog/ornldaac/1840/catalog.html)"
   ]
  },
  {
   "cell_type": "markdown",
   "id": "fa74962e",
   "metadata": {},
   "source": [
    "### 3.1. **`OPeNDAP`** allows users to use data files that are stored on remote computers with their favorite analysis and visualization client software.\n",
    "\n",
    "NASA Earthdata has great informaion on OPeNDAP: [What is OPeNDAP](https://earthdata.nasa.gov/collaborate/open-data-services-and-software/api/opendap)\n",
    "\n",
    "### 3.1.a. We'll use Pythons **`pydap`** library\n",
    "\n",
    "* **`pydap`** can be used to inspect data from any scientific dataset available on the internet from OPeNDAP servers. This allows inspection and manipulation of scientific data as if it were stored locally.  Data can be downloaded on-the-fly as needed.\n",
    "\n",
    "### 3.1.b. We'll use Python's **`Xarray`** Library to \n",
    "* open the data files we are searching for, \n",
    "* subset the North American file based on the Lambert Conformal Conic **`lccbounds`** bounding box we defined earlier, \n",
    "* concatenate the time range into one file, and \n",
    "* save the concatened file to a netCDF file.\n",
    "\n",
    "Xarray\n",
    "* **xarray open_dataset** \n",
    "* **xarray slice**\n",
    "* **xarray concat**\n",
    "* **xarray to_netcdf**\n",
    "\n",
    "\n",
    "\n",
    "\n"
   ]
  },
  {
   "cell_type": "markdown",
   "id": "6afc51ff",
   "metadata": {},
   "source": [
    "**Note:** The beginning of the **`granule_names`** filename (**\"Daymet_Daily_V4.\"**) is specific to the Earthdata naming convention.  We'll strip out (**\"Daymet_Daily_V4.\"**) below when we access the files from the on-prem ORNL DAAC's OPeNDAP client through THREDDS."
   ]
  },
  {
   "cell_type": "code",
   "execution_count": 14,
   "id": "a15b752b",
   "metadata": {},
   "outputs": [
    {
     "name": "stdout",
     "output_type": "stream",
     "text": [
      " ***GRANULE_NAME*** ----> Daymet_Daily_V4.daymet_v4_daily_na_prcp_2010.nc\n",
      "https://thredds.daac.ornl.gov/thredds/dodsC/ornldaac/1840/daymet_v4_daily_na_prcp_2010.nc\n",
      " ***GRANULE_NAME*** ----> Daymet_Daily_V4.daymet_v4_daily_na_prcp_2011.nc\n",
      "https://thredds.daac.ornl.gov/thredds/dodsC/ornldaac/1840/daymet_v4_daily_na_prcp_2011.nc\n",
      "Processing Time:  87.48695015907288 seconds\n"
     ]
    }
   ],
   "source": [
    "#from pydap.client import open_url\n",
    "#from pydap.cas.urs import setup_session # setup_session \n",
    "#import xarray as xr\n",
    "#import time\n",
    "\n",
    "#username = \"XXXX\" # Not required here.  Earthdata URS Login (only needed for NGAP Hyrax) Get account here https://urs.earthdata.nasa.gov/\n",
    "#password= \"XXXX\"\n",
    "\n",
    "thredds_url = 'https://thredds.daac.ornl.gov/thredds/dodsC/ornldaac/1840/' # ORNL DAAC TDS OPeNDAP URL \n",
    "                                                                           # for Daymet V4 Daily Files\n",
    "#session = setup_session(username, password, check_url=thredds_url)  ### Session is NOT needed for ORNLDAAC THREDDS\n",
    "before = time.time()\n",
    "cnt = 0 \n",
    "for g_name in granule_names:\n",
    "    print(' ***GRANULE_NAME*** ---->', g_name)\n",
    "    granule_dap = thredds_url + g_name.replace('Daymet_Daily_V4.','')\n",
    "    print(granule_dap)\n",
    "    \n",
    "    # Using pydap's open_url \n",
    "    thredds_ds = open_url(granule_dap) #, session=session)  ### session would be needed here only with Earthdata access\n",
    "    \n",
    "    # Xarray DataSet - opening dataset via remote OPeNDAP \n",
    "    ds = xr.open_dataset(xr.backends.PydapDataStore(thredds_ds), decode_coords=\"all\")\n",
    "        \n",
    "    temp=ds['prcp'].sel(x=slice(lccbounds.minx[0],lccbounds.maxx[0]), y=slice(lccbounds.maxy[0],lccbounds.miny[0]))\n",
    "    \n",
    "    if cnt==0:\n",
    "        prcp = temp\n",
    "    else:\n",
    "        prcp = xr.concat([prcp, temp], dim=\"time\")\n",
    "    \n",
    "    cnt += 1\n",
    "    \n",
    "\n",
    "# save to netcdf\n",
    "prcp.to_netcdf(var + '_tdssubset.nc')\n",
    "print(\"Processing Time: \", time.time() - before, 'seconds')\n",
    "#Processing Time:  50.4509379863739 seconds"
   ]
  },
  {
   "cell_type": "markdown",
   "id": "bf62c55c",
   "metadata": {},
   "source": [
    "### 3.2  Daymet Precipitation Subset"
   ]
  },
  {
   "cell_type": "code",
   "execution_count": null,
   "id": "eb437875",
   "metadata": {},
   "outputs": [],
   "source": [
    "prcp_grsm = prcp.isel(time=6) # isel = xarray index selection (python index start from 0, so time is Jan 7, 2010)\n",
    "fig, ax = plt.subplots(figsize = (20,10))\n",
    "prcp_grsm.plot(ax=ax, robust=True, cbar_kwargs={'label': 'mm/day'})\n",
    "grsm_poly_lcc.plot(ax = ax, color = 'none', edgecolor = 'red')"
   ]
  },
  {
   "cell_type": "code",
   "execution_count": null,
   "id": "57c5f29e",
   "metadata": {},
   "outputs": [],
   "source": [
    "prcp"
   ]
  },
  {
   "cell_type": "markdown",
   "id": "404f8376",
   "metadata": {},
   "source": [
    "----"
   ]
  },
  {
   "cell_type": "markdown",
   "id": "9e94e398",
   "metadata": {},
   "source": [
    "## Step 4. Clipping the subset area by polygon\n",
    "In this step, we demonstrate how to clip the subset to our polygon of interest.  We'll use Python's *rasterio* library.\n",
    "\n",
    "* **`rasterio`** provides many capabilities found in GDAL\n",
    "\n",
    "First, we'll map the subset precipitation data matrix to real world coordinates using the **'translation'** and **'scale'** methods of **'Affine'**."
   ]
  },
  {
   "cell_type": "code",
   "execution_count": null,
   "id": "34ec5a09",
   "metadata": {},
   "outputs": [],
   "source": [
    "from rasterio.features import Affine\n",
    "res = 1000 # daymet spatial resolution is 1km x 1km\n",
    "transform = Affine.translation(min(prcp.x).values - res / 2, min(prcp.y).values - res / 2) * Affine.scale(res, res)\n",
    "transform"
   ]
  },
  {
   "cell_type": "code",
   "execution_count": null,
   "id": "e33d30e9",
   "metadata": {},
   "outputs": [],
   "source": [
    "from rasterio.features import geometry_mask\n",
    "grsm_mask = geometry_mask(grsm_poly_lcc.geometry, out_shape=(len(prcp.y), len(prcp.x)), transform=transform, invert=True)\n",
    "polymask = xr.DataArray(grsm_mask , dims=(\"y\", \"x\"))\n",
    "polymask = polymask.sel(y=slice(None, None, -1)) \n",
    "prcp_masked = prcp.where(polymask == True)\n",
    "prcp_masked.to_netcdf(var + '_subset_poly.nc')"
   ]
  },
  {
   "cell_type": "markdown",
   "id": "f2b4df5a",
   "metadata": {},
   "source": [
    "Now let's plot the subset for a day, this time using Xarray's **sel** method for time"
   ]
  },
  {
   "cell_type": "code",
   "execution_count": null,
   "id": "9725d5ed",
   "metadata": {},
   "outputs": [],
   "source": [
    "import matplotlib.pyplot as plt\n",
    "prcp_1 = prcp_masked.sel(time=\"2010-01-07\")\n",
    "fig, ax = plt.subplots(figsize = (20,10))\n",
    "prcp_1.plot(ax=ax, robust=True, cbar_kwargs={'label': 'mm/day'})\n",
    "grsm_poly_lcc.plot(ax = ax, color = 'none', edgecolor = 'red')"
   ]
  },
  {
   "cell_type": "markdown",
   "id": "b346cee5",
   "metadata": {},
   "source": [
    "#### Saving to a GeoTIFF\n",
    "The subset data can also be clipped by a polygon of interest and converted to GeoTiff using the rioxarray and shapely libraries.\n",
    "\n",
    "* **`rioxarray`** is an extention of xarray.  It can be used to clip, merge, and reproject rasters\n",
    "* **`shapely`** is a Python package for manipulation and analysis of planar geometery objects"
   ]
  },
  {
   "cell_type": "code",
   "execution_count": null,
   "id": "080269cf",
   "metadata": {},
   "outputs": [],
   "source": [
    "import rioxarray\n",
    "from shapely.geometry import mapping\n",
    "#prcp_sub = rioxarray.open_rasterio(var + '_subset_poly.nc', decode_coords=\"all\")\n",
    "prcp_sub = rioxarray.open_rasterio(var + '_tdssubset.nc', decode_coords=\"all\")\n",
    "prcp_clip = prcp_sub.prcp.rio.clip(grsm_poly_lcc.geometry.apply(mapping), grsm_poly_lcc.crs, invert=False, from_disk=True)\n",
    "\n",
    "# saving one time step to geotiff\n",
    "prcp_clip_day6 = prcp_clip.isel(time=6)\n",
    "prcp_clip_day6.rio.to_raster(\"prcp_clip_day6.tif\")"
   ]
  },
  {
   "cell_type": "markdown",
   "id": "55b6bcf0",
   "metadata": {},
   "source": [
    "END"
   ]
  },
  {
   "cell_type": "code",
   "execution_count": null,
   "id": "cd52b288",
   "metadata": {},
   "outputs": [],
   "source": []
  },
  {
   "cell_type": "code",
   "execution_count": null,
   "id": "5d8a39d4",
   "metadata": {},
   "outputs": [],
   "source": []
  },
  {
   "cell_type": "code",
   "execution_count": null,
   "id": "5e0cf751",
   "metadata": {},
   "outputs": [],
   "source": [
    "import matplotlib.pyplot as plt\n",
    "prcp_1 = prcp_masked.isel(time=6)\n",
    "ax = plt.subplot()\n",
    "prcp_1.plot(ax=ax, cbar_kwargs={'label': 'mm/day'})"
   ]
  },
  {
   "cell_type": "code",
   "execution_count": null,
   "id": "7e454c1e",
   "metadata": {},
   "outputs": [],
   "source": [
    "import matplotlib.pyplot as plt\n",
    "prcp_1 = prcp_masked.sel(time=\"2010-01-07\")\n",
    "ax = plt.subplot()\n",
    "prcp_1.plot(ax=ax, cbar_kwargs={'label': 'mm/day'})"
   ]
  },
  {
   "cell_type": "code",
   "execution_count": null,
   "id": "20d641ed",
   "metadata": {},
   "outputs": [],
   "source": []
  },
  {
   "cell_type": "code",
   "execution_count": null,
   "id": "69f56f18",
   "metadata": {},
   "outputs": [],
   "source": []
  }
 ],
 "metadata": {
  "kernelspec": {
   "display_name": "Python 3",
   "language": "python",
   "name": "python3"
  },
  "language_info": {
   "codemirror_mode": {
    "name": "ipython",
    "version": 3
   },
   "file_extension": ".py",
   "mimetype": "text/x-python",
   "name": "python",
   "nbconvert_exporter": "python",
   "pygments_lexer": "ipython3",
   "version": "3.8.10"
  }
 },
 "nbformat": 4,
 "nbformat_minor": 5
}
